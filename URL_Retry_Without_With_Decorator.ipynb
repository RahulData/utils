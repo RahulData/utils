{
 "cells": [
  {
   "cell_type": "code",
   "execution_count": 34,
   "metadata": {},
   "outputs": [
    {
     "name": "stdout",
     "output_type": "stream",
     "text": [
      "4\n",
      "Success. Exiting..\n",
      "END\n"
     ]
    }
   ],
   "source": [
    "from urllib import request\n",
    "import time\n",
    "\n",
    "url = 'https://encrypted-tbn0.gstatic.com/images?q=tbn:ANd9GcRgolORTuMr7IGUnxT3j80TAvNA86K_PoFrGgaciICuJBwXGXa2'\n",
    "\n",
    "tries = 4\n",
    "delay = 3\n",
    "backoff = 1\n",
    "mtries, mdelay = tries, delay\n",
    "\n",
    "while mtries > 0:\n",
    "    try:\n",
    "        print(mtries)\n",
    "        response = request.urlopen(url)\n",
    "        print('Success. Exiting..')\n",
    "        break\n",
    "    except (ValueError, request.HTTPError, request.URLError) as ex:\n",
    "        print('Exception. Retrying..')\n",
    "#         msg = \"%s, Retrying in %d seconds...\" % (str(ex), mdelay)\n",
    "        time.sleep(mdelay)\n",
    "        mtries -= 1\n",
    "        mdelay *= backoff\n",
    "print('END')"
   ]
  },
  {
   "cell_type": "code",
   "execution_count": 35,
   "metadata": {},
   "outputs": [
    {
     "name": "stdout",
     "output_type": "stream",
     "text": [
      "4\n",
      "Exception. Retrying..\n",
      "3\n",
      "Exception. Retrying..\n",
      "2\n",
      "Exception. Retrying..\n",
      "1\n",
      "Exception. Retrying..\n",
      "END\n"
     ]
    }
   ],
   "source": [
    "tries = 4\n",
    "delay = 3\n",
    "backoff = 1\n",
    "mtries, mdelay = tries, delay\n",
    "\n",
    "while mtries > 0:\n",
    "    try:\n",
    "        print(mtries)\n",
    "        url = 'INVALID URL'\n",
    "        response = request.urlopen(url)\n",
    "        print('Success. Exiting..')\n",
    "        break\n",
    "    except (ValueError, request.HTTPError, request.URLError) as ex:\n",
    "        print('Exception. Retrying..')\n",
    "#         msg = \"%s, Retrying in %d seconds...\" % (str(ex), mdelay)\n",
    "        time.sleep(mdelay)\n",
    "        mtries -= 1\n",
    "        mdelay *= backoff\n",
    "print('END')"
   ]
  },
  {
   "cell_type": "code",
   "execution_count": 37,
   "metadata": {},
   "outputs": [],
   "source": [
    "def download_url_with_retries(url):\n",
    "    tries = 4\n",
    "    delay = 3\n",
    "    backoff = 1\n",
    "    mtries, mdelay = tries, delay\n",
    "\n",
    "    while mtries > 0:\n",
    "        try:\n",
    "            print(mtries)\n",
    "            response = request.urlopen(url)\n",
    "            print('Success. Exiting..')\n",
    "            break\n",
    "        except (ValueError, request.HTTPError, request.URLError) as ex:\n",
    "            print('Exception Type: ' + type(ex).__name__ +' .. Retrying..')\n",
    "    #         msg = \"%s, Retrying in %d seconds...\" % (str(ex), mdelay)\n",
    "            time.sleep(mdelay)\n",
    "            mtries -= 1\n",
    "            mdelay *= backoff\n",
    "    print('END')"
   ]
  },
  {
   "cell_type": "code",
   "execution_count": 38,
   "metadata": {},
   "outputs": [
    {
     "name": "stdout",
     "output_type": "stream",
     "text": [
      "4\n",
      "Exception Type: ValueError .. Retrying..\n",
      "3\n",
      "Exception Type: ValueError .. Retrying..\n",
      "2\n",
      "Exception Type: ValueError .. Retrying..\n",
      "1\n",
      "Exception Type: ValueError .. Retrying..\n",
      "END\n"
     ]
    }
   ],
   "source": [
    "url = 'INVALID URL'\n",
    "download_url_with_retries(url)"
   ]
  },
  {
   "cell_type": "code",
   "execution_count": 39,
   "metadata": {},
   "outputs": [
    {
     "name": "stdout",
     "output_type": "stream",
     "text": [
      "4\n",
      "Exception Type: URLError .. Retrying..\n",
      "3\n",
      "Exception Type: URLError .. Retrying..\n",
      "2\n",
      "Exception Type: URLError .. Retrying..\n",
      "1\n",
      "Exception Type: URLError .. Retrying..\n",
      "END\n"
     ]
    }
   ],
   "source": [
    "url = 'http://www.INVALIDURLasdasdsadasdasd.com'\n",
    "download_url_with_retries(url)"
   ]
  },
  {
   "cell_type": "code",
   "execution_count": 5,
   "metadata": {},
   "outputs": [],
   "source": [
    "import time\n",
    "from functools import wraps\n",
    "\n",
    "\n",
    "def retry(ExceptionToCheck, tries=4, delay=3, backoff=2, logger=None):\n",
    "    \"\"\"Retry calling the decorated function using an exponential backoff.\n",
    "\n",
    "    http://www.saltycrane.com/blog/2009/11/trying-out-retry-decorator-python/\n",
    "    original from: http://wiki.python.org/moin/PythonDecoratorLibrary#Retry\n",
    "\n",
    "    :param ExceptionToCheck: the exception to check. may be a tuple of\n",
    "        exceptions to check\n",
    "    :type ExceptionToCheck: Exception or tuple\n",
    "    :param tries: number of times to try (not retry) before giving up\n",
    "    :type tries: int\n",
    "    :param delay: initial delay between retries in seconds\n",
    "    :type delay: int\n",
    "    :param backoff: backoff multiplier e.g. value of 2 will double the delay\n",
    "        each retry\n",
    "    :type backoff: int\n",
    "    :param logger: logger to use. If None, print\n",
    "    :type logger: logging.Logger instance\n",
    "    \"\"\"\n",
    "    def deco_retry(f):\n",
    "\n",
    "        @wraps(f)\n",
    "        def f_retry(*args, **kwargs):\n",
    "            mtries, mdelay = tries, delay\n",
    "            while mtries > 1:\n",
    "                try:\n",
    "                    return f(*args, **kwargs)\n",
    "                except ExceptionToCheck as e:\n",
    "                    msg = \"%s, Retrying in %d seconds...\" % (str(e), mdelay)\n",
    "                    if logger:\n",
    "                        logger.warning(msg)\n",
    "                    else:\n",
    "                        print(msg)\n",
    "                    time.sleep(mdelay)\n",
    "                    mtries -= 1\n",
    "                    mdelay *= backoff\n",
    "            return f(*args, **kwargs)\n",
    "\n",
    "        return f_retry  # true decorator\n",
    "\n",
    "    return deco_retry"
   ]
  },
  {
   "cell_type": "code",
   "execution_count": 6,
   "metadata": {},
   "outputs": [
    {
     "name": "stdout",
     "output_type": "stream",
     "text": [
      "Fail, Retrying in 3 seconds...\n",
      "Fail, Retrying in 6 seconds...\n",
      "Fail, Retrying in 12 seconds...\n"
     ]
    },
    {
     "ename": "Exception",
     "evalue": "Fail",
     "output_type": "error",
     "traceback": [
      "\u001b[1;31m---------------------------------------------------------------------------\u001b[0m",
      "\u001b[1;31mException\u001b[0m                                 Traceback (most recent call last)",
      "\u001b[1;32m<ipython-input-6-48d6917d6d66>\u001b[0m in \u001b[0;36m<module>\u001b[1;34m\u001b[0m\n\u001b[0;32m      3\u001b[0m     \u001b[1;32mraise\u001b[0m \u001b[0mException\u001b[0m\u001b[1;33m(\u001b[0m\u001b[1;34m\"Fail\"\u001b[0m\u001b[1;33m)\u001b[0m\u001b[1;33m\u001b[0m\u001b[1;33m\u001b[0m\u001b[0m\n\u001b[0;32m      4\u001b[0m \u001b[1;33m\u001b[0m\u001b[0m\n\u001b[1;32m----> 5\u001b[1;33m \u001b[0mtest_fail\u001b[0m\u001b[1;33m(\u001b[0m\u001b[1;34m\"it works!\"\u001b[0m\u001b[1;33m)\u001b[0m\u001b[1;33m\u001b[0m\u001b[1;33m\u001b[0m\u001b[0m\n\u001b[0m",
      "\u001b[1;32m<ipython-input-5-dcf24640c76e>\u001b[0m in \u001b[0;36mf_retry\u001b[1;34m(*args, **kwargs)\u001b[0m\n\u001b[0;32m     39\u001b[0m                     \u001b[0mmtries\u001b[0m \u001b[1;33m-=\u001b[0m \u001b[1;36m1\u001b[0m\u001b[1;33m\u001b[0m\u001b[1;33m\u001b[0m\u001b[0m\n\u001b[0;32m     40\u001b[0m                     \u001b[0mmdelay\u001b[0m \u001b[1;33m*=\u001b[0m \u001b[0mbackoff\u001b[0m\u001b[1;33m\u001b[0m\u001b[1;33m\u001b[0m\u001b[0m\n\u001b[1;32m---> 41\u001b[1;33m             \u001b[1;32mreturn\u001b[0m \u001b[0mf\u001b[0m\u001b[1;33m(\u001b[0m\u001b[1;33m*\u001b[0m\u001b[0margs\u001b[0m\u001b[1;33m,\u001b[0m \u001b[1;33m**\u001b[0m\u001b[0mkwargs\u001b[0m\u001b[1;33m)\u001b[0m\u001b[1;33m\u001b[0m\u001b[1;33m\u001b[0m\u001b[0m\n\u001b[0m\u001b[0;32m     42\u001b[0m \u001b[1;33m\u001b[0m\u001b[0m\n\u001b[0;32m     43\u001b[0m         \u001b[1;32mreturn\u001b[0m \u001b[0mf_retry\u001b[0m  \u001b[1;31m# true decorator\u001b[0m\u001b[1;33m\u001b[0m\u001b[1;33m\u001b[0m\u001b[0m\n",
      "\u001b[1;32m<ipython-input-6-48d6917d6d66>\u001b[0m in \u001b[0;36mtest_fail\u001b[1;34m(text)\u001b[0m\n\u001b[0;32m      1\u001b[0m \u001b[1;33m@\u001b[0m\u001b[0mretry\u001b[0m\u001b[1;33m(\u001b[0m\u001b[0mException\u001b[0m\u001b[1;33m,\u001b[0m \u001b[0mtries\u001b[0m\u001b[1;33m=\u001b[0m\u001b[1;36m4\u001b[0m\u001b[1;33m)\u001b[0m\u001b[1;33m\u001b[0m\u001b[1;33m\u001b[0m\u001b[0m\n\u001b[0;32m      2\u001b[0m \u001b[1;32mdef\u001b[0m \u001b[0mtest_fail\u001b[0m\u001b[1;33m(\u001b[0m\u001b[0mtext\u001b[0m\u001b[1;33m)\u001b[0m\u001b[1;33m:\u001b[0m\u001b[1;33m\u001b[0m\u001b[1;33m\u001b[0m\u001b[0m\n\u001b[1;32m----> 3\u001b[1;33m     \u001b[1;32mraise\u001b[0m \u001b[0mException\u001b[0m\u001b[1;33m(\u001b[0m\u001b[1;34m\"Fail\"\u001b[0m\u001b[1;33m)\u001b[0m\u001b[1;33m\u001b[0m\u001b[1;33m\u001b[0m\u001b[0m\n\u001b[0m\u001b[0;32m      4\u001b[0m \u001b[1;33m\u001b[0m\u001b[0m\n\u001b[0;32m      5\u001b[0m \u001b[0mtest_fail\u001b[0m\u001b[1;33m(\u001b[0m\u001b[1;34m\"it works!\"\u001b[0m\u001b[1;33m)\u001b[0m\u001b[1;33m\u001b[0m\u001b[1;33m\u001b[0m\u001b[0m\n",
      "\u001b[1;31mException\u001b[0m: Fail"
     ]
    }
   ],
   "source": [
    "@retry(Exception, tries=4)\n",
    "def test_fail(text):\n",
    "    raise Exception(\"Fail\")\n",
    "\n",
    "test_fail(\"it works!\")"
   ]
  },
  {
   "cell_type": "code",
   "execution_count": 8,
   "metadata": {},
   "outputs": [
    {
     "name": "stdout",
     "output_type": "stream",
     "text": [
      "Success:  it works!\n"
     ]
    }
   ],
   "source": [
    "@retry(Exception, tries=4)\n",
    "def test_success(text):\n",
    "    print(\"Success: \", text)\n",
    "\n",
    "test_success(\"it works!\")"
   ]
  },
  {
   "cell_type": "code",
   "execution_count": 12,
   "metadata": {},
   "outputs": [
    {
     "name": "stdout",
     "output_type": "stream",
     "text": [
      "Fail, Retrying in 3 seconds...\n",
      "Success:  it works!\n"
     ]
    }
   ],
   "source": [
    "import random\n",
    "\n",
    "@retry(Exception, tries=4)\n",
    "def test_random(text):\n",
    "    x = random.random()\n",
    "    if x < 0.5:\n",
    "        raise Exception(\"Fail\")\n",
    "    else:\n",
    "        print(\"Success: \", text)\n",
    "\n",
    "test_random(\"it works!\")"
   ]
  },
  {
   "cell_type": "code",
   "execution_count": 13,
   "metadata": {},
   "outputs": [],
   "source": [
    "import random\n",
    "\n",
    "@retry((NameError, IOError), tries=20, delay=1, backoff=1)\n",
    "def test_multiple_exceptions():\n",
    "    x = random.random()\n",
    "    if x < 0.40:\n",
    "        raise NameError(\"NameError\")\n",
    "    elif x < 0.80:\n",
    "        raise IOError(\"IOError\")\n",
    "    else:\n",
    "        raise KeyError(\"KeyError\")"
   ]
  },
  {
   "cell_type": "code",
   "execution_count": null,
   "metadata": {},
   "outputs": [],
   "source": []
  },
  {
   "cell_type": "code",
   "execution_count": 14,
   "metadata": {},
   "outputs": [],
   "source": [
    "from urllib import request"
   ]
  },
  {
   "cell_type": "code",
   "execution_count": 18,
   "metadata": {},
   "outputs": [],
   "source": [
    "@retry((request.URLError, request.HTTPError), tries=4, delay=3, backoff=2)\n",
    "def urlopen_with_retry(success):\n",
    "    \n",
    "    x = random.random()\n",
    "    if x < 0.40:\n",
    "        raise NameError(\"NameError\")\n",
    "    elif x < 0.80:\n",
    "        raise IOError(\"IOError\")\n",
    "    else:\n",
    "        raise KeyError(\"KeyError\")\n",
    "        return request.urlopen(url)"
   ]
  },
  {
   "cell_type": "code",
   "execution_count": 20,
   "metadata": {},
   "outputs": [
    {
     "data": {
      "text/plain": [
       "<http.client.HTTPResponse at 0x508ed30>"
      ]
     },
     "execution_count": 20,
     "metadata": {},
     "output_type": "execute_result"
    }
   ],
   "source": [
    "url = 'http://www.example.com'\n",
    "urlopen_with_retry(url)"
   ]
  },
  {
   "cell_type": "code",
   "execution_count": 26,
   "metadata": {},
   "outputs": [],
   "source": [
    "url='http://vis.iaai.com/resizer?imagekeys=25607745~I1&Width=640&Height=480'\n",
    "\n",
    "for i in range(0,100):\n",
    "    try:\n",
    "        response = request.urlopen(url)\n",
    "    except Exception as ex:\n",
    "        print(i)\n",
    "        raise ex"
   ]
  },
  {
   "cell_type": "code",
   "execution_count": 27,
   "metadata": {},
   "outputs": [
    {
     "data": {
      "text/plain": [
       "urllib.error.HTTPError"
      ]
     },
     "execution_count": 27,
     "metadata": {},
     "output_type": "execute_result"
    }
   ],
   "source": [
    "request.URLError\n",
    "request.HTTPError"
   ]
  },
  {
   "cell_type": "code",
   "execution_count": null,
   "metadata": {},
   "outputs": [],
   "source": []
  },
  {
   "cell_type": "code",
   "execution_count": null,
   "metadata": {},
   "outputs": [],
   "source": []
  },
  {
   "cell_type": "code",
   "execution_count": 34,
   "metadata": {},
   "outputs": [],
   "source": [
    "import time\n",
    "from functools import wraps\n",
    "\n",
    "\n",
    "def retry(ExceptionToCheck, tries=4, delay=3, backoff=1):\n",
    "    def deco_retry(f):\n",
    "        @wraps(f)\n",
    "        def f_retry(*args, **kwargs):\n",
    "            mtries, mdelay = tries, delay\n",
    "            while mtries > 1:\n",
    "                try:\n",
    "                    return f(*args, **kwargs)\n",
    "                except ExceptionToCheck as e:\n",
    "                    msg = \"%s, Retrying in %d seconds...\" % (str(e), mdelay)\n",
    "                    print(msg)\n",
    "                    time.sleep(mdelay)\n",
    "                    mtries -= 1\n",
    "                    mdelay *= backoff\n",
    "            return f(*args, **kwargs)\n",
    "\n",
    "        return f_retry  # true decorator\n",
    "\n",
    "    return deco_retry"
   ]
  },
  {
   "cell_type": "code",
   "execution_count": 33,
   "metadata": {},
   "outputs": [
    {
     "name": "stdout",
     "output_type": "stream",
     "text": [
      "Fail, Retrying in 3 seconds...\n",
      "Fail, Retrying in 6 seconds...\n",
      "Fail, Retrying in 12 seconds...\n"
     ]
    },
    {
     "ename": "Exception",
     "evalue": "Fail",
     "output_type": "error",
     "traceback": [
      "\u001b[1;31m---------------------------------------------------------------------------\u001b[0m",
      "\u001b[1;31mException\u001b[0m                                 Traceback (most recent call last)",
      "\u001b[1;32m<ipython-input-33-9ef896244140>\u001b[0m in \u001b[0;36m<module>\u001b[1;34m\u001b[0m\n\u001b[0;32m      4\u001b[0m     \u001b[1;32mraise\u001b[0m \u001b[0mException\u001b[0m\u001b[1;33m(\u001b[0m\u001b[1;34m\"Fail\"\u001b[0m\u001b[1;33m)\u001b[0m\u001b[1;33m\u001b[0m\u001b[1;33m\u001b[0m\u001b[0m\n\u001b[0;32m      5\u001b[0m \u001b[1;33m\u001b[0m\u001b[0m\n\u001b[1;32m----> 6\u001b[1;33m \u001b[0mtest_fail\u001b[0m\u001b[1;33m(\u001b[0m\u001b[1;34m\"it works!\"\u001b[0m\u001b[1;33m)\u001b[0m\u001b[1;33m\u001b[0m\u001b[1;33m\u001b[0m\u001b[0m\n\u001b[0m",
      "\u001b[1;32m<ipython-input-28-991cccb80311>\u001b[0m in \u001b[0;36mf_retry\u001b[1;34m(*args, **kwargs)\u001b[0m\n\u001b[0;32m     17\u001b[0m                     \u001b[0mmtries\u001b[0m \u001b[1;33m-=\u001b[0m \u001b[1;36m1\u001b[0m\u001b[1;33m\u001b[0m\u001b[1;33m\u001b[0m\u001b[0m\n\u001b[0;32m     18\u001b[0m                     \u001b[0mmdelay\u001b[0m \u001b[1;33m*=\u001b[0m \u001b[0mbackoff\u001b[0m\u001b[1;33m\u001b[0m\u001b[1;33m\u001b[0m\u001b[0m\n\u001b[1;32m---> 19\u001b[1;33m             \u001b[1;32mreturn\u001b[0m \u001b[0mf\u001b[0m\u001b[1;33m(\u001b[0m\u001b[1;33m*\u001b[0m\u001b[0margs\u001b[0m\u001b[1;33m,\u001b[0m \u001b[1;33m**\u001b[0m\u001b[0mkwargs\u001b[0m\u001b[1;33m)\u001b[0m\u001b[1;33m\u001b[0m\u001b[1;33m\u001b[0m\u001b[0m\n\u001b[0m\u001b[0;32m     20\u001b[0m \u001b[1;33m\u001b[0m\u001b[0m\n\u001b[0;32m     21\u001b[0m         \u001b[1;32mreturn\u001b[0m \u001b[0mf_retry\u001b[0m  \u001b[1;31m# true decorator\u001b[0m\u001b[1;33m\u001b[0m\u001b[1;33m\u001b[0m\u001b[0m\n",
      "\u001b[1;32m<ipython-input-33-9ef896244140>\u001b[0m in \u001b[0;36mtest_fail\u001b[1;34m(text)\u001b[0m\n\u001b[0;32m      2\u001b[0m \u001b[1;33m@\u001b[0m\u001b[0mretry\u001b[0m\u001b[1;33m(\u001b[0m\u001b[0mException\u001b[0m\u001b[1;33m,\u001b[0m \u001b[0mtries\u001b[0m\u001b[1;33m=\u001b[0m\u001b[1;36m4\u001b[0m\u001b[1;33m)\u001b[0m\u001b[1;33m\u001b[0m\u001b[1;33m\u001b[0m\u001b[0m\n\u001b[0;32m      3\u001b[0m \u001b[1;32mdef\u001b[0m \u001b[0mtest_fail\u001b[0m\u001b[1;33m(\u001b[0m\u001b[0mtext\u001b[0m\u001b[1;33m)\u001b[0m\u001b[1;33m:\u001b[0m\u001b[1;33m\u001b[0m\u001b[1;33m\u001b[0m\u001b[0m\n\u001b[1;32m----> 4\u001b[1;33m     \u001b[1;32mraise\u001b[0m \u001b[0mException\u001b[0m\u001b[1;33m(\u001b[0m\u001b[1;34m\"Fail\"\u001b[0m\u001b[1;33m)\u001b[0m\u001b[1;33m\u001b[0m\u001b[1;33m\u001b[0m\u001b[0m\n\u001b[0m\u001b[0;32m      5\u001b[0m \u001b[1;33m\u001b[0m\u001b[0m\n\u001b[0;32m      6\u001b[0m \u001b[0mtest_fail\u001b[0m\u001b[1;33m(\u001b[0m\u001b[1;34m\"it works!\"\u001b[0m\u001b[1;33m)\u001b[0m\u001b[1;33m\u001b[0m\u001b[1;33m\u001b[0m\u001b[0m\n",
      "\u001b[1;31mException\u001b[0m: Fail"
     ]
    }
   ],
   "source": [
    "# ALWAYS FAILS\n",
    "@retry(Exception, tries=4)\n",
    "def test_fail(text):\n",
    "    raise Exception(\"Fail\")\n",
    "\n",
    "test_fail(\"it works!\")"
   ]
  },
  {
   "cell_type": "code",
   "execution_count": 26,
   "metadata": {},
   "outputs": [
    {
     "name": "stdout",
     "output_type": "stream",
     "text": [
      "4\n",
      "Success. Exiting..\n",
      "END\n"
     ]
    }
   ],
   "source": [
    "from urllib import request\n",
    "import time\n",
    "\n",
    "tries = 4\n",
    "delay = 3\n",
    "backoff = 1\n",
    "mtries, mdelay = tries, delay\n",
    "\n",
    "while mtries > 0:\n",
    "    try:\n",
    "        print(mtries)\n",
    "        response = request.urlopen('https://encrypted-tbn0.gstatic.com/images?q=tbn:ANd9GcRgolORTuMr7IGUnxT3j80TAvNA86K_PoFrGgaciICuJBwXGXa2')\n",
    "        print('Success. Exiting..')\n",
    "        break\n",
    "    except (request.HTTPError, request.URLError) as ex:\n",
    "        print('Exception. Retrying..')\n",
    "#         msg = \"%s, Retrying in %d seconds...\" % (str(ex), mdelay)\n",
    "        time.sleep(mdelay)\n",
    "        mtries -= 1\n",
    "        mdelay *= backoff\n",
    "print('END')"
   ]
  }
 ],
 "metadata": {
  "kernelspec": {
   "display_name": "Python 3",
   "language": "python",
   "name": "python3"
  },
  "language_info": {
   "codemirror_mode": {
    "name": "ipython",
    "version": 3
   },
   "file_extension": ".py",
   "mimetype": "text/x-python",
   "name": "python",
   "nbconvert_exporter": "python",
   "pygments_lexer": "ipython3",
   "version": "3.6.7"
  }
 },
 "nbformat": 4,
 "nbformat_minor": 2
}
