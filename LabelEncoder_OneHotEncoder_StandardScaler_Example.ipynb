{
 "cells": [
  {
   "cell_type": "code",
   "execution_count": 2,
   "metadata": {},
   "outputs": [],
   "source": [
    "import numpy as np \n",
    "from sklearn.preprocessing import LabelEncoder, OneHotEncoder, StandardScaler\n",
    "exampl = np.array([['Male', 25], ['Female', 30], ['Trans', 21], ['Male',34],['Female',19]])\n",
    "labenc = LabelEncoder()\n",
    "exampl[:, 0] = labenc.fit_transform(exampl[:, 0])"
   ]
  },
  {
   "cell_type": "code",
   "execution_count": 3,
   "metadata": {},
   "outputs": [
    {
     "data": {
      "text/plain": [
       "array([['1', '25'],\n",
       "       ['0', '30'],\n",
       "       ['2', '21'],\n",
       "       ['1', '34'],\n",
       "       ['0', '19']], dtype='<U6')"
      ]
     },
     "execution_count": 3,
     "metadata": {},
     "output_type": "execute_result"
    }
   ],
   "source": [
    "exampl"
   ]
  },
  {
   "cell_type": "code",
   "execution_count": 4,
   "metadata": {},
   "outputs": [
    {
     "data": {
      "text/plain": [
       "array(['Female', 'Male', 'Trans'], dtype='<U6')"
      ]
     },
     "execution_count": 4,
     "metadata": {},
     "output_type": "execute_result"
    }
   ],
   "source": [
    "labenc.classes_"
   ]
  },
  {
   "cell_type": "code",
   "execution_count": 5,
   "metadata": {},
   "outputs": [
    {
     "data": {
      "text/plain": [
       "array([[ 0.,  1.,  0., 25.],\n",
       "       [ 1.,  0.,  0., 30.],\n",
       "       [ 0.,  0.,  1., 21.],\n",
       "       [ 0.,  1.,  0., 34.],\n",
       "       [ 1.,  0.,  0., 19.]])"
      ]
     },
     "execution_count": 5,
     "metadata": {},
     "output_type": "execute_result"
    }
   ],
   "source": [
    "enc = OneHotEncoder(categorical_features = [0])\n",
    "exampl = enc.fit_transform(exampl).toarray()\n",
    "exampl"
   ]
  },
  {
   "cell_type": "code",
   "execution_count": 15,
   "metadata": {},
   "outputs": [
    {
     "data": {
      "text/plain": [
       "([0],\n",
       " array([0, 3], dtype=int32),\n",
       " array([3]),\n",
       " True,\n",
       " numpy.float64,\n",
       " array([0, 3], dtype=int32))"
      ]
     },
     "execution_count": 15,
     "metadata": {},
     "output_type": "execute_result"
    }
   ],
   "source": [
    "enc.categorical_features, enc.feature_indices_, enc.n_values_, enc.sparse, enc.dtype, enc.feature_indices_"
   ]
  },
  {
   "cell_type": "code",
   "execution_count": 16,
   "metadata": {
    "collapsed": true
   },
   "outputs": [],
   "source": [
    "sc = StandardScaler()\n",
    "# x(i) = (xi - mean(x)) / stddev(x)\n",
    "# stddev(x) = sqrt(sigma dev-sq / n)\n",
    "exampl = sc.fit_transform(exampl)"
   ]
  },
  {
   "cell_type": "code",
   "execution_count": 17,
   "metadata": {},
   "outputs": [
    {
     "data": {
      "text/plain": [
       "array([[-0.81649658,  1.22474487, -0.5       , -0.14377703],\n",
       "       [ 1.22474487, -0.81649658, -0.5       ,  0.75482941],\n",
       "       [-0.81649658, -0.81649658,  2.        , -0.86266219],\n",
       "       [-0.81649658,  1.22474487, -0.5       ,  1.47371457],\n",
       "       [ 1.22474487, -0.81649658, -0.5       , -1.22210476]])"
      ]
     },
     "execution_count": 17,
     "metadata": {},
     "output_type": "execute_result"
    }
   ],
   "source": [
    "exampl"
   ]
  }
 ],
 "metadata": {
  "kernelspec": {
   "display_name": "Python 3",
   "language": "python",
   "name": "python3"
  },
  "language_info": {
   "codemirror_mode": {
    "name": "ipython",
    "version": 3
   },
   "file_extension": ".py",
   "mimetype": "text/x-python",
   "name": "python",
   "nbconvert_exporter": "python",
   "pygments_lexer": "ipython3",
   "version": "3.6.1"
  }
 },
 "nbformat": 4,
 "nbformat_minor": 2
}
