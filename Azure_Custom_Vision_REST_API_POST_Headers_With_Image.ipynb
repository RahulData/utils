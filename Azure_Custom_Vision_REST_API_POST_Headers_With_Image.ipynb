{
 "cells": [
  {
   "cell_type": "markdown",
   "metadata": {},
   "source": [
    "### https://stackoverflow.com/questions/10768522/python-send-post-with-header"
   ]
  },
  {
   "cell_type": "code",
   "execution_count": 1,
   "metadata": {
    "collapsed": true
   },
   "outputs": [],
   "source": [
    "import requests"
   ]
  },
  {
   "cell_type": "code",
   "execution_count": 2,
   "metadata": {
    "collapsed": true
   },
   "outputs": [],
   "source": [
    "# defining the api-endpoint  "
   ]
  },
  {
   "cell_type": "code",
   "execution_count": 3,
   "metadata": {
    "collapsed": true
   },
   "outputs": [],
   "source": [
    "prediction_api_endpoint = \"https://eastus2.api.cognitive.microsoft.com/customvision/v3.0/Prediction/4ed80992-569e-4b99-ba6c-1e269823ff9f/classify/iterations/Iteration1/image\"\n",
    "\n",
    "pred_data = {\"Prediction-Key\": \"2dd14917933e409e8ceb075a47605f35\" ,\n",
    "            \"Content-Type\":\"application/octet-stream\"}"
   ]
  },
  {
   "cell_type": "code",
   "execution_count": 4,
   "metadata": {
    "collapsed": true
   },
   "outputs": [],
   "source": [
    "filename = \"D:/IAA/data/images/dataset/2/23198345/url01.jpg\""
   ]
  },
  {
   "cell_type": "code",
   "execution_count": 5,
   "metadata": {
    "collapsed": true
   },
   "outputs": [],
   "source": [
    "pred_response = requests.post(url=prediction_api_endpoint, data=open(filename, \"rb\").read(), headers=pred_data)"
   ]
  },
  {
   "cell_type": "code",
   "execution_count": 6,
   "metadata": {},
   "outputs": [
    {
     "data": {
      "text/plain": [
       "{'created': '2019-11-04T12:27:21.700Z',\n",
       " 'id': '73995707-e82a-4473-9286-ff15e3d669be',\n",
       " 'iteration': 'b443f68d-8e9c-4451-be97-5593ab54043c',\n",
       " 'predictions': [{'probability': 0.879921556,\n",
       "   'tagId': 'e44de25e-1b2f-48bc-93e9-d54a50ecdfda',\n",
       "   'tagName': 'passenger_front_0'},\n",
       "  {'probability': 0.117020652,\n",
       "   'tagId': 'e47df5e2-b363-4bc6-93fc-d4eba7843f35',\n",
       "   'tagName': 'passenger_front_2'},\n",
       "  {'probability': 0.002358526,\n",
       "   'tagId': '8f7c6295-02d6-4938-8361-77b5e4081eb8',\n",
       "   'tagName': 'passenger_front_1'},\n",
       "  {'probability': 0.000699242868,\n",
       "   'tagId': '379fa73b-355a-46e2-ae6f-5b037a2952fc',\n",
       "   'tagName': 'passenger_front_3'},\n",
       "  {'probability': 2.59829687e-08,\n",
       "   'tagId': 'b6e0dc1a-386b-433a-90c6-a8cc4cb8b718',\n",
       "   'tagName': 'passenger_front_4'},\n",
       "  {'probability': 4.59518618e-10,\n",
       "   'tagId': 'd8bd4d09-9fc8-487d-9ebf-6a5554575423',\n",
       "   'tagName': 'passenger_front_5'}],\n",
       " 'project': '4ed80992-569e-4b99-ba6c-1e269823ff9f'}"
      ]
     },
     "execution_count": 6,
     "metadata": {},
     "output_type": "execute_result"
    }
   ],
   "source": [
    "pred_response.json()"
   ]
  }
 ],
 "metadata": {
  "kernelspec": {
   "display_name": "Python 3",
   "language": "python",
   "name": "python3"
  },
  "language_info": {
   "codemirror_mode": {
    "name": "ipython",
    "version": 3
   },
   "file_extension": ".py",
   "mimetype": "text/x-python",
   "name": "python",
   "nbconvert_exporter": "python",
   "pygments_lexer": "ipython3",
   "version": "3.6.9"
  }
 },
 "nbformat": 4,
 "nbformat_minor": 2
}
